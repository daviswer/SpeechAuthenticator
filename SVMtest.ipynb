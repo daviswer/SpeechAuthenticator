{
 "cells": [
  {
   "cell_type": "code",
   "execution_count": 1,
   "metadata": {
    "collapsed": false
   },
   "outputs": [],
   "source": [
    "%matplotlib inline\n",
    "\n",
    "from sklearn import svm\n",
    "from WAVreader import *\n",
    "import matplotlib.pyplot as plt\n",
    "from sklearn.metrics import confusion_matrix\n"
   ]
  },
  {
   "cell_type": "code",
   "execution_count": 11,
   "metadata": {
    "collapsed": false
   },
   "outputs": [
    {
     "name": "stdout",
     "output_type": "stream",
     "text": [
      "14.4615\n",
      "Scaled 1005 windows down to 751\n",
      "Finished file Audio/1-1.wav\n",
      "14.6035\n",
      "Scaled 883 windows down to 756\n",
      "Finished file Audio/2-1.wav\n",
      "14.5955\n",
      "Scaled 1285 windows down to 1004\n",
      "Finished file Audio/3-1.wav\n",
      "\n",
      "Final data set consists of 2499 windows over 3 classes\n"
     ]
    }
   ],
   "source": [
    "filelist = ['Audio/1-1.wav',\n",
    "#             'Audio/1-2.wav',\n",
    "#             'Audio/1-3.wav',\n",
    "            'Audio/2-1.wav',\n",
    "#             'Audio/2-2.wav',\n",
    "#             'Audio/2-3.wav',\n",
    "            'Audio/3-1.wav',\n",
    "#             'Audio/3-2.wav',\n",
    "#             'Audio/3-3.wav',\n",
    "            ]\n",
    "info = WAVreader(filelist, [], 0.05)"
   ]
  },
  {
   "cell_type": "code",
   "execution_count": 18,
   "metadata": {
    "collapsed": false
   },
   "outputs": [
    {
     "name": "stdout",
     "output_type": "stream",
     "text": [
      "1749 750\n"
     ]
    }
   ],
   "source": [
    "data = info.svmset\n",
    "\n",
    "C= 1.0 #regularizaton parameter\n",
    "\n",
    "trainset = []\n",
    "testset = []\n",
    "\n",
    "for i in xrange(len(data)):\n",
    "    if i%10 < 3: testset.append(data[i])\n",
    "    else: trainset.append(data[i])\n",
    "print len(trainset),len(testset)"
   ]
  },
  {
   "cell_type": "code",
   "execution_count": 19,
   "metadata": {
    "collapsed": false
   },
   "outputs": [
    {
     "name": "stdout",
     "output_type": "stream",
     "text": [
      "0.423098913665\n",
      "0.417333333333\n"
     ]
    }
   ],
   "source": [
    "clf = svm.SVC(kernel='poly',degree=2)\n",
    "#Fetch the unlabeled data points\n",
    "X = np.array([clip[0] for clip in trainset])\n",
    "#Normalize the data\n",
    "meanX = np.mean(X, axis=0)\n",
    "varX = np.var(X, axis=0)\n",
    "standardX = np.divide(X-meanX, varX)\n",
    "Y = np.array([clip[1] for clip in trainset])\n",
    "clf.fit(standardX,Y) \n",
    "\n",
    "#Fetch and normalize the unlabeled test data points\n",
    "testX = [clip[0] for clip in testset]\n",
    "testY = [clip[1] for clip in testset]\n",
    "testmeanX = np.mean(testX, axis=0)\n",
    "testvarX = np.var(testX, axis=0)\n",
    "teststandardX = np.divide(testX-testmeanX, testvarX)\n",
    "print clf.score(standardX, Y)\n",
    "print clf.score(teststandardX, testY)\n"
   ]
  },
  {
   "cell_type": "code",
   "execution_count": 15,
   "metadata": {
    "collapsed": false
   },
   "outputs": [
    {
     "name": "stdout",
     "output_type": "stream",
     "text": [
      "Confusion matrix\n",
      "[[259  12  32  27   8  12   8  83  12]\n",
      " [ 12  98  61  41  59  46  62  17  66]\n",
      " [ 13  31 273  40  27  35  64  45  66]\n",
      " [  2  25  46 215 103  32  41  18  58]\n",
      " [  9   8   6  79 308  22 107  24  10]\n",
      " [ 15  23  64  45  41 189  38 121  33]\n",
      " [ 24  14  37  57  77  39 449  98  22]\n",
      " [ 43   4  18  39  28  32  63 371  32]\n",
      " [ 29  23  79  56  31  36 123  83 200]]\n"
     ]
    },
    {
     "data": {
      "image/png": "[encoded data removed]",
      "text/plain": [
       "<matplotlib.figure.Figure at 0x9dadac8>"
      ]
     },
     "metadata": {},
     "output_type": "display_data"
    }
   ],
   "source": [
    "def plot_confusion_matrix(cm, title='Confusion matrix', cmap=plt.cm.Blues):\n",
    "    plt.imshow(cm, interpolation='nearest', cmap=cmap)\n",
    "    plt.title(title)\n",
    "    plt.colorbar()\n",
    "    plt.tight_layout()\n",
    "    plt.ylabel('True label')\n",
    "    plt.xlabel('Predicted label')\n",
    "\n",
    "ytrue = testY\n",
    "ypred = []\n",
    "for clip in teststandardX:\n",
    "    ypred.append(clf.predict(clip))\n",
    "confusion=confusion_matrix(ytrue, ypred)\n",
    "cm_normalized = confusion.astype('float') / confusion.sum(axis=1)[:, np.newaxis]\n",
    "print('Confusion matrix')\n",
    "print(confusion)\n",
    "plt.figure()\n",
    "plot_confusion_matrix(cm_normalized, title='Normalized confusion matrix')"
   ]
  },
  {
   "cell_type": "code",
   "execution_count": 9,
   "metadata": {
    "collapsed": false
   },
   "outputs": [
    {
     "name": "stdout",
     "output_type": "stream",
     "text": [
      "0.448045844813\n",
      "0.439198171861\n",
      "0.443577893463\n"
     ]
    }
   ],
   "source": [
    "precisions = np.array([(confusion[i][i]+0.0)/np.sum(confusion, axis=0)[i] for i in range(info.numClasses)])\n",
    "meanp = np.mean(precisions)\n",
    "recalls = np.array([(confusion[i][i]+0.0)/sum(confusion[i]) for i in range(info.numClasses)])\n",
    "meanr = np.mean(recalls)\n",
    "F1 = 2*meanr*meanp/(meanr+meanp)\n",
    "print meanp\n",
    "print meanr\n",
    "print F1"
   ]
  },
  {
   "cell_type": "code",
   "execution_count": null,
   "metadata": {
    "collapsed": true
   },
   "outputs": [],
   "source": []
  },
  {
   "cell_type": "code",
   "execution_count": null,
   "metadata": {
    "collapsed": true
   },
   "outputs": [],
   "source": []
  },
  {
   "cell_type": "code",
   "execution_count": null,
   "metadata": {
    "collapsed": true
   },
   "outputs": [],
   "source": []
  },
  {
   "cell_type": "code",
   "execution_count": 6,
   "metadata": {
    "collapsed": false
   },
   "outputs": [
    {
     "ename": "ValueError",
     "evalue": "coef_ is only available when using a linear kernel",
     "output_type": "error",
     "traceback": [
      "\u001b[1;31m---------------------------------------------------------------------------\u001b[0m",
      "\u001b[1;31mValueError\u001b[0m                                Traceback (most recent call last)",
      "\u001b[1;32m<ipython-input-6-79a8787d1db6>\u001b[0m in \u001b[0;36m<module>\u001b[1;34m()\u001b[0m\n\u001b[0;32m      2\u001b[0m \u001b[1;33m\u001b[0m\u001b[0m\n\u001b[0;32m      3\u001b[0m \u001b[1;31m# get the separating hyperplane\u001b[0m\u001b[1;33m\u001b[0m\u001b[1;33m\u001b[0m\u001b[0m\n\u001b[1;32m----> 4\u001b[1;33m \u001b[0mw\u001b[0m \u001b[1;33m=\u001b[0m \u001b[0mclf\u001b[0m\u001b[1;33m.\u001b[0m\u001b[0mcoef_\u001b[0m\u001b[1;33m[\u001b[0m\u001b[1;36m0\u001b[0m\u001b[1;33m]\u001b[0m\u001b[1;33m\u001b[0m\u001b[0m\n\u001b[0m\u001b[0;32m      5\u001b[0m \u001b[0ma\u001b[0m \u001b[1;33m=\u001b[0m \u001b[1;33m-\u001b[0m\u001b[0mw\u001b[0m\u001b[1;33m[\u001b[0m\u001b[1;36m0\u001b[0m\u001b[1;33m]\u001b[0m \u001b[1;33m/\u001b[0m \u001b[0mw\u001b[0m\u001b[1;33m[\u001b[0m\u001b[1;36m1\u001b[0m\u001b[1;33m]\u001b[0m\u001b[1;33m\u001b[0m\u001b[0m\n\u001b[0;32m      6\u001b[0m \u001b[0mxx\u001b[0m \u001b[1;33m=\u001b[0m \u001b[0mnp\u001b[0m\u001b[1;33m.\u001b[0m\u001b[0mlinspace\u001b[0m\u001b[1;33m(\u001b[0m\u001b[1;33m-\u001b[0m\u001b[1;36m5\u001b[0m\u001b[1;33m,\u001b[0m \u001b[1;36m5\u001b[0m\u001b[1;33m)\u001b[0m\u001b[1;33m\u001b[0m\u001b[0m\n",
      "\u001b[1;32mC:\\Users\\Davis\\AppData\\Local\\Enthought\\Canopy\\User\\lib\\site-packages\\sklearn\\svm\\base.pyc\u001b[0m in \u001b[0;36mcoef_\u001b[1;34m(self)\u001b[0m\n\u001b[0;32m    447\u001b[0m     \u001b[1;32mdef\u001b[0m \u001b[0mcoef_\u001b[0m\u001b[1;33m(\u001b[0m\u001b[0mself\u001b[0m\u001b[1;33m)\u001b[0m\u001b[1;33m:\u001b[0m\u001b[1;33m\u001b[0m\u001b[0m\n\u001b[0;32m    448\u001b[0m         \u001b[1;32mif\u001b[0m \u001b[0mself\u001b[0m\u001b[1;33m.\u001b[0m\u001b[0mkernel\u001b[0m \u001b[1;33m!=\u001b[0m \u001b[1;34m'linear'\u001b[0m\u001b[1;33m:\u001b[0m\u001b[1;33m\u001b[0m\u001b[0m\n\u001b[1;32m--> 449\u001b[1;33m             raise ValueError('coef_ is only available when using a '\n\u001b[0m\u001b[0;32m    450\u001b[0m                              'linear kernel')\n\u001b[0;32m    451\u001b[0m \u001b[1;33m\u001b[0m\u001b[0m\n",
      "\u001b[1;31mValueError\u001b[0m: coef_ is only available when using a linear kernel"
     ]
    }
   ],
   "source": [
    "# Plotting SVM\n",
    "\n",
    "# get the separating hyperplane\n",
    "w = clf.coef_[0]\n",
    "a = -w[0] / w[1]\n",
    "xx = np.linspace(-5, 5)\n",
    "yy = a * xx - (clf.intercept_[0]) / w[1]\n",
    "\n",
    "# plot the parallels to the separating hyperplane that pass through the\n",
    "# support vectors\n",
    "margin = 1 / np.sqrt(np.sum(clf.coef_ ** 2))\n",
    "yy_down = yy + a * margin\n",
    "yy_up = yy - a * margin\n",
    "\n",
    "# plot the line, the points, and the nearest vectors to the plane\n",
    "plt.figure(fignum, figsize=(4, 3))\n",
    "plt.clf()\n",
    "plt.plot(xx, yy, 'k-')\n",
    "plt.plot(xx, yy_down, 'k--')\n",
    "plt.plot(xx, yy_up, 'k--')\n",
    "\n",
    "plt.scatter(clf.support_vectors_[:, 0], clf.support_vectors_[:, 1], s=80,\n",
    "\t\t\tfacecolors='none', zorder=10)\n",
    "plt.scatter(X[:, 0], X[:, 1], c=Y, zorder=10, cmap=plt.cm.Paired)\n",
    "\n",
    "plt.axis('tight')\n",
    "x_min = -4.8\n",
    "x_max = 4.2\n",
    "y_min = -6\n",
    "y_max = 6\n",
    "\n",
    "XX, YY = np.mgrid[x_min:x_max:200j, y_min:y_max:200j]\n",
    "Z = clf.predict(np.c_[XX.ravel(), YY.ravel()])\n",
    "\n",
    "# Put the result into a color plot\n",
    "Z = Z.reshape(XX.shape)\n",
    "plt.figure(fignum, figsize=(4, 3))\n",
    "plt.pcolormesh(XX, YY, Z, cmap=plt.cm.Paired)\n",
    "\n",
    "plt.xlim(x_min, x_max)\n",
    "plt.ylim(y_min, y_max)\n",
    "\n",
    "plt.xticks(())\n",
    "plt.yticks(())\n",
    "fignum = fignum + 1\n",
    "\n",
    "plt.show() \n"
   ]
  }
 ],
 "metadata": {
  "kernelspec": {
   "display_name": "Python 2",
   "language": "python",
   "name": "python2"
  },
  "language_info": {
   "codemirror_mode": {
    "name": "ipython",
    "version": 2
   },
   "file_extension": ".py",
   "mimetype": "text/x-python",
   "name": "python",
   "nbconvert_exporter": "python",
   "pygments_lexer": "ipython2",
   "version": "2.7.6"
  }
 },
 "nbformat": 4,
 "nbformat_minor": 0
}
