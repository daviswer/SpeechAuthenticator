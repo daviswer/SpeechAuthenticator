{
 "cells": [
  {
   "cell_type": "code",
   "execution_count": 25,
   "metadata": {
    "collapsed": false
   },
   "outputs": [],
   "source": [
    "%matplotlib inline\n",
    "\n",
    "from sklearn import svm\n",
    "from WAVreader import *\n",
    "import matplotlib.pyplot as plt\n",
    "from sklearn.metrics import confusion_matrix\n"
   ]
  },
  {
   "cell_type": "code",
   "execution_count": 4,
   "metadata": {
    "collapsed": false
   },
   "outputs": [
    {
     "name": "stdout",
     "output_type": "stream",
     "text": [
      "14.4615\n",
      "Scaled 1005 windows down to 751\n",
      "Finished file Audio/1-1.wav\n",
      "14.603\n",
      "Scaled 1013 windows down to 763\n",
      "Finished file Audio/1-2.wav\n",
      "14.6035\n",
      "Scaled 883 windows down to 756\n",
      "Finished file Audio/2-1.wav\n",
      "14.1525\n",
      "Scaled 895 windows down to 789\n",
      "Finished file Audio/2-2.wav\n",
      "14.5955\n",
      "Scaled 1285 windows down to 1004\n",
      "Finished file Audio/3-1.wav\n",
      "14.6025\n",
      "Scaled 1176 windows down to 985\n",
      "Finished file Audio/3-2.wav\n",
      "14.6025\n",
      "Scaled 806 windows down to 651\n",
      "Finished file Audio/4-1.wav\n",
      "13.49\n",
      "Scaled 1574 windows down to 1159\n",
      "Finished file Audio/4-2.wav\n",
      "14.598\n",
      "Scaled 891 windows down to 759\n",
      "Finished file Audio/5-1.wav\n",
      "14.601\n",
      "Scaled 1504 windows down to 1161\n",
      "Finished file Audio/5-2.wav\n",
      "14.6035\n",
      "Scaled 963 windows down to 821\n",
      "Finished file Audio/6-1.wav\n",
      "14.6025\n",
      "Scaled 1321 windows down to 1081\n",
      "Finished file Audio/6-2.wav\n",
      "14.596\n",
      "Scaled 1265 windows down to 1013\n",
      "Finished file Audio/7-1.wav\n",
      "14.596\n",
      "Scaled 2184 windows down to 1721\n",
      "Finished file Audio/7-2.wav\n",
      "14.6015\n",
      "Scaled 1154 windows down to 916\n",
      "Finished file Audio/8-1.wav\n",
      "14.6015\n",
      "Scaled 1682 windows down to 1194\n",
      "Finished file Audio/8-2.wav\n",
      "16.288\n",
      "Scaled 1091 windows down to 830\n",
      "Finished file Audio/9-1.wav\n",
      "16.2875\n",
      "Scaled 2004 windows down to 1374\n",
      "Finished file Audio/9-2.wav\n",
      "\n",
      "Final data set consists of 17656 windows over 9 classes\n",
      "15890 1766\n"
     ]
    }
   ],
   "source": [
    "filelist = ['Audio/1-1.wav',\n",
    "            'Audio/1-2.wav',\n",
    "            'Audio/2-1.wav',\n",
    "            'Audio/2-2.wav',\n",
    "            'Audio/3-1.wav',\n",
    "            'Audio/3-2.wav',\n",
    "            'Audio/4-1.wav',\n",
    "            'Audio/4-2.wav',\n",
    "            'Audio/5-1.wav',\n",
    "            'Audio/5-2.wav',\n",
    "            'Audio/6-1.wav',\n",
    "            'Audio/6-2.wav',\n",
    "            'Audio/7-1.wav',\n",
    "            'Audio/7-2.wav',\n",
    "            'Audio/8-1.wav',\n",
    "            'Audio/8-2.wav',\n",
    "            'Audio/9-1.wav',\n",
    "            'Audio/9-2.wav',\n",
    "            ]\n",
    "info = WAVreader(filelist, [0,0,5,5,7,7,3,3,4,4,1,1,6,6,2,2,8,8], 0.05)\n",
    "data = info.svmset\n",
    "\n",
    "C= 1.0 #regularizaton parameter\n",
    "\n",
    "trainset = []\n",
    "testset = []\n",
    "\n",
    "for i in xrange(len(data)):\n",
    "    if i%10 == 2: testset.append(data[i])\n",
    "    else: trainset.append(data[i])\n",
    "print len(trainset),len(testset)\n",
    "\n"
   ]
  },
  {
   "cell_type": "code",
   "execution_count": 27,
   "metadata": {
    "collapsed": false
   },
   "outputs": [
    {
     "name": "stdout",
     "output_type": "stream",
     "text": [
      "0.483826305853\n"
     ]
    }
   ],
   "source": [
    "clf = svm.SVC()\n",
    "X = np.array([clip[0][:-1] for clip in trainset])\n",
    "meanX = np.mean(X, axis=0)\n",
    "varX = np.var(X, axis=0)\n",
    "standardX = np.divide(X-meanX, varX)\n",
    "Y = np.array([clip[1] for clip in trainset])\n",
    "clf.fit(standardX,Y) \n",
    "testX = [clip[0][:-1] for clip in testset]\n",
    "testmeanX = np.mean(X, axis=0)\n",
    "testvarX = np.var(X, axis=0)\n",
    "teststandardX = np.divide(X-meanX, varX)\n",
    "print clf.score(teststandardX, Y)\n"
   ]
  },
  {
   "cell_type": "code",
   "execution_count": 28,
   "metadata": {
    "collapsed": false
   },
   "outputs": [
    {
     "name": "stdout",
     "output_type": "stream",
     "text": [
      "Confusion matrix\n",
      "[[ 858   43  249   42   24   25   10   70   34]\n",
      " [  40  701  318  121   85   82  106  170   82]\n",
      " [ 116  131 1162   92   88   15  175   48   65]\n",
      " [  24  123   81  687  274   64  107  138  124]\n",
      " [  13   53   80  237 1019   33  225   33   28]\n",
      " [  38  107   81  168  138  345  141  179  186]\n",
      " [  61  111  295  107  261   53 1423   75   67]\n",
      " [  43   92  127  121   73   85  189  871  182]\n",
      " [  74  115  194  181  120  121  310  239  622]]\n"
     ]
    },
    {
     "data": {
      "image/png": "[encoded data removed]",
      "text/plain": [
       "<matplotlib.figure.Figure at 0x14b030f0>"
      ]
     },
     "metadata": {},
     "output_type": "display_data"
    }
   ],
   "source": [
    "def plot_confusion_matrix(cm, title='Confusion matrix', cmap=plt.cm.Blues):\n",
    "    plt.imshow(cm, interpolation='nearest', cmap=cmap)\n",
    "    plt.title(title)\n",
    "    plt.colorbar()\n",
    "    plt.tight_layout()\n",
    "    plt.ylabel('True label')\n",
    "    plt.xlabel('Predicted label')\n",
    "\n",
    "ytrue = Y\n",
    "ypred = []\n",
    "for clip in teststandardX:\n",
    "    ypred.append(clf.predict(clip))\n",
    "confusion=confusion_matrix(ytrue, ypred)\n",
    "cm_normalized = confusion.astype('float') / confusion.sum(axis=1)[:, np.newaxis]\n",
    "print('Confusion matrix')\n",
    "print(confusion)\n",
    "plt.figure()\n",
    "plot_confusion_matrix(cm_normalized, title='Normalized confusion matrix')"
   ]
  },
  {
   "cell_type": "code",
   "execution_count": null,
   "metadata": {
    "collapsed": true
   },
   "outputs": [],
   "source": []
  },
  {
   "cell_type": "code",
   "execution_count": null,
   "metadata": {
    "collapsed": true
   },
   "outputs": [],
   "source": []
  },
  {
   "cell_type": "code",
   "execution_count": null,
   "metadata": {
    "collapsed": true
   },
   "outputs": [],
   "source": []
  },
  {
   "cell_type": "code",
   "execution_count": null,
   "metadata": {
    "collapsed": true
   },
   "outputs": [],
   "source": []
  },
  {
   "cell_type": "code",
   "execution_count": 6,
   "metadata": {
    "collapsed": false
   },
   "outputs": [
    {
     "ename": "ValueError",
     "evalue": "coef_ is only available when using a linear kernel",
     "output_type": "error",
     "traceback": [
      "\u001b[1;31m---------------------------------------------------------------------------\u001b[0m",
      "\u001b[1;31mValueError\u001b[0m                                Traceback (most recent call last)",
      "\u001b[1;32m<ipython-input-6-79a8787d1db6>\u001b[0m in \u001b[0;36m<module>\u001b[1;34m()\u001b[0m\n\u001b[0;32m      2\u001b[0m \u001b[1;33m\u001b[0m\u001b[0m\n\u001b[0;32m      3\u001b[0m \u001b[1;31m# get the separating hyperplane\u001b[0m\u001b[1;33m\u001b[0m\u001b[1;33m\u001b[0m\u001b[0m\n\u001b[1;32m----> 4\u001b[1;33m \u001b[0mw\u001b[0m \u001b[1;33m=\u001b[0m \u001b[0mclf\u001b[0m\u001b[1;33m.\u001b[0m\u001b[0mcoef_\u001b[0m\u001b[1;33m[\u001b[0m\u001b[1;36m0\u001b[0m\u001b[1;33m]\u001b[0m\u001b[1;33m\u001b[0m\u001b[0m\n\u001b[0m\u001b[0;32m      5\u001b[0m \u001b[0ma\u001b[0m \u001b[1;33m=\u001b[0m \u001b[1;33m-\u001b[0m\u001b[0mw\u001b[0m\u001b[1;33m[\u001b[0m\u001b[1;36m0\u001b[0m\u001b[1;33m]\u001b[0m \u001b[1;33m/\u001b[0m \u001b[0mw\u001b[0m\u001b[1;33m[\u001b[0m\u001b[1;36m1\u001b[0m\u001b[1;33m]\u001b[0m\u001b[1;33m\u001b[0m\u001b[0m\n\u001b[0;32m      6\u001b[0m \u001b[0mxx\u001b[0m \u001b[1;33m=\u001b[0m \u001b[0mnp\u001b[0m\u001b[1;33m.\u001b[0m\u001b[0mlinspace\u001b[0m\u001b[1;33m(\u001b[0m\u001b[1;33m-\u001b[0m\u001b[1;36m5\u001b[0m\u001b[1;33m,\u001b[0m \u001b[1;36m5\u001b[0m\u001b[1;33m)\u001b[0m\u001b[1;33m\u001b[0m\u001b[0m\n",
      "\u001b[1;32mC:\\Users\\Davis\\AppData\\Local\\Enthought\\Canopy\\User\\lib\\site-packages\\sklearn\\svm\\base.pyc\u001b[0m in \u001b[0;36mcoef_\u001b[1;34m(self)\u001b[0m\n\u001b[0;32m    447\u001b[0m     \u001b[1;32mdef\u001b[0m \u001b[0mcoef_\u001b[0m\u001b[1;33m(\u001b[0m\u001b[0mself\u001b[0m\u001b[1;33m)\u001b[0m\u001b[1;33m:\u001b[0m\u001b[1;33m\u001b[0m\u001b[0m\n\u001b[0;32m    448\u001b[0m         \u001b[1;32mif\u001b[0m \u001b[0mself\u001b[0m\u001b[1;33m.\u001b[0m\u001b[0mkernel\u001b[0m \u001b[1;33m!=\u001b[0m \u001b[1;34m'linear'\u001b[0m\u001b[1;33m:\u001b[0m\u001b[1;33m\u001b[0m\u001b[0m\n\u001b[1;32m--> 449\u001b[1;33m             raise ValueError('coef_ is only available when using a '\n\u001b[0m\u001b[0;32m    450\u001b[0m                              'linear kernel')\n\u001b[0;32m    451\u001b[0m \u001b[1;33m\u001b[0m\u001b[0m\n",
      "\u001b[1;31mValueError\u001b[0m: coef_ is only available when using a linear kernel"
     ]
    }
   ],
   "source": [
    "# Plotting SVM\n",
    "\n",
    "# get the separating hyperplane\n",
    "w = clf.coef_[0]\n",
    "a = -w[0] / w[1]\n",
    "xx = np.linspace(-5, 5)\n",
    "yy = a * xx - (clf.intercept_[0]) / w[1]\n",
    "\n",
    "# plot the parallels to the separating hyperplane that pass through the\n",
    "# support vectors\n",
    "margin = 1 / np.sqrt(np.sum(clf.coef_ ** 2))\n",
    "yy_down = yy + a * margin\n",
    "yy_up = yy - a * margin\n",
    "\n",
    "# plot the line, the points, and the nearest vectors to the plane\n",
    "plt.figure(fignum, figsize=(4, 3))\n",
    "plt.clf()\n",
    "plt.plot(xx, yy, 'k-')\n",
    "plt.plot(xx, yy_down, 'k--')\n",
    "plt.plot(xx, yy_up, 'k--')\n",
    "\n",
    "plt.scatter(clf.support_vectors_[:, 0], clf.support_vectors_[:, 1], s=80,\n",
    "\t\t\tfacecolors='none', zorder=10)\n",
    "plt.scatter(X[:, 0], X[:, 1], c=Y, zorder=10, cmap=plt.cm.Paired)\n",
    "\n",
    "plt.axis('tight')\n",
    "x_min = -4.8\n",
    "x_max = 4.2\n",
    "y_min = -6\n",
    "y_max = 6\n",
    "\n",
    "XX, YY = np.mgrid[x_min:x_max:200j, y_min:y_max:200j]\n",
    "Z = clf.predict(np.c_[XX.ravel(), YY.ravel()])\n",
    "\n",
    "# Put the result into a color plot\n",
    "Z = Z.reshape(XX.shape)\n",
    "plt.figure(fignum, figsize=(4, 3))\n",
    "plt.pcolormesh(XX, YY, Z, cmap=plt.cm.Paired)\n",
    "\n",
    "plt.xlim(x_min, x_max)\n",
    "plt.ylim(y_min, y_max)\n",
    "\n",
    "plt.xticks(())\n",
    "plt.yticks(())\n",
    "fignum = fignum + 1\n",
    "\n",
    "plt.show() \n"
   ]
  }
 ],
 "metadata": {
  "kernelspec": {
   "display_name": "Python 2",
   "language": "python",
   "name": "python2"
  },
  "language_info": {
   "codemirror_mode": {
    "name": "ipython",
    "version": 2
   },
   "file_extension": ".py",
   "mimetype": "text/x-python",
   "name": "python",
   "nbconvert_exporter": "python",
   "pygments_lexer": "ipython2",
   "version": "2.7.6"
  }
 },
 "nbformat": 4,
 "nbformat_minor": 0
}
