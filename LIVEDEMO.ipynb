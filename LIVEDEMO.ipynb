{
 "cells": [
  {
   "cell_type": "code",
   "execution_count": 1,
   "metadata": {
    "collapsed": true
   },
   "outputs": [],
   "source": [
    "%matplotlib inline\n",
    "\n",
    "from sklearn import svm\n",
    "from WAVreader import *\n",
    "import matplotlib.pyplot as plt\n",
    "from sklearn.metrics import confusion_matrix\n",
    "import pyaudio\n",
    "import numpy as np\n",
    "from scipy.fftpack import fft, dct\n",
    "from pylab import *\n",
    "from numpy import dot\n",
    "import os"
   ]
  },
  {
   "cell_type": "code",
   "execution_count": 2,
   "metadata": {
    "collapsed": false
   },
   "outputs": [
    {
     "name": "stdout",
     "output_type": "stream",
     "text": [
      "7.6605\n",
      "Scaled 1331 windows down to 1175\n",
      "Finished file davis.wav\n",
      "12.8055\n",
      "Scaled 1331 windows down to 1295\n",
      "Finished file davis2.wav\n",
      "\n",
      "Final data set consists of 2462 windows over 2 classes\n"
     ]
    }
   ],
   "source": [
    "filelist = ['davis.wav',\n",
    "            'davis2.wav'\n",
    "            ]\n",
    "info = WAVreader(filelist, [1,0], 0.05)\n",
    "data = info.svmset"
   ]
  },
  {
   "cell_type": "code",
   "execution_count": 3,
   "metadata": {
    "collapsed": false
   },
   "outputs": [
    {
     "name": "stdout",
     "output_type": "stream",
     "text": [
      "{0: 1.9070487993803253, 1: 2.1024765157984628}\n",
      "0.989439480097\n"
     ]
    }
   ],
   "source": [
    "weights = map(lambda x: sum([1 if clip[1]==x else 0 for clip in data]), range(info.numClasses))\n",
    "weightdict = dict(zip(range(info.numClasses),[(sum(weights)+.0)/weight for weight in weights]))\n",
    "print weightdict\n",
    "\n",
    "clf = svm.SVC()#class_weight=weightdict)\n",
    "#Fetch the unlabeled data points\n",
    "X = np.array([clip[0] for clip in data])\n",
    "#Normalize the data\n",
    "meanX = np.mean(X, axis=0)\n",
    "varX = np.var(X, axis=0)\n",
    "standardX = np.divide(X-meanX, varX)\n",
    "Y = np.array([clip[1] for clip in data])\n",
    "clf.fit(standardX,Y) \n",
    "print clf.score(standardX, Y)"
   ]
  },
  {
   "cell_type": "code",
   "execution_count": 4,
   "metadata": {
    "collapsed": false
   },
   "outputs": [
    {
     "name": "stdout",
     "output_type": "stream",
     "text": [
      "Confusion matrix\n",
      "[[1280   11]\n",
      " [  15 1156]]\n"
     ]
    },
    {
     "data": {
      "image/png": "[encoded data removed]",
      "text/plain": [
       "<matplotlib.figure.Figure at 0x9e51160>"
      ]
     },
     "metadata": {},
     "output_type": "display_data"
    }
   ],
   "source": [
    "def plot_confusion_matrix(cm, title='Confusion matrix', cmap=plt.cm.Blues):\n",
    "    plt.imshow(cm, interpolation='nearest', cmap=cmap)\n",
    "    plt.title(title)\n",
    "    plt.colorbar()\n",
    "    plt.tight_layout()\n",
    "    plt.ylabel('True label')\n",
    "    plt.xlabel('Predicted label')\n",
    "\n",
    "ytrue = Y\n",
    "ypred = []\n",
    "for clip in standardX:\n",
    "    ypred.append(clf.predict(clip))\n",
    "confusion=confusion_matrix(ytrue, ypred)\n",
    "cm_normalized = confusion.astype('float') / confusion.sum(axis=1)[:, np.newaxis]\n",
    "print('Confusion matrix')\n",
    "print(confusion)\n",
    "plt.figure()\n",
    "plot_confusion_matrix(cm_normalized, title='Normalized confusion matrix')"
   ]
  },
  {
   "cell_type": "code",
   "execution_count": 26,
   "metadata": {
    "collapsed": false
   },
   "outputs": [],
   "source": [
    "# precisions = np.array([(confusion[i][i]+0.0)/np.sum(confusion, axis=0)[i] for i in range(info.numClasses)])\n",
    "# meanp = np.mean(precisions)\n",
    "# recalls = np.array([(confusion[i][i]+0.0)/sum(confusion[i]) for i in range(info.numClasses)])\n",
    "# meanr = np.mean(recalls)\n",
    "# F1 = 2*meanr*meanp/(meanr+meanp)\n",
    "# print meanp\n",
    "# print meanr\n",
    "# print F1"
   ]
  },
  {
   "cell_type": "code",
   "execution_count": 6,
   "metadata": {
    "collapsed": false
   },
   "outputs": [
    {
     "name": "stdout",
     "output_type": "stream",
     "text": [
      "Nobody is speaking!\n",
      "Davis is speaking!\n",
      "[3, 3, 3, 3, 3, 3, 3, 0, 0, 0, 0, 0, 0, 0, 0]\n",
      "Nobody is speaking!\n",
      "[0, 0, 0, 1, 0, 0, 0, 1, 3, 3, 3, 3, 3, 3, 3]\n",
      "Aashna is speaking!\n",
      "[3, 3, 3, 3, 3, 3, 3, 1, 1, 1, 1, 1, 1, 1, 1]\n",
      "Nobody is speaking!\n",
      "[1, 1, 1, 1, 1, 1, 1, 3, 3, 3, 3, 3, 3, 3, 3]\n",
      "Aashna is speaking!\n",
      "[3, 3, 3, 3, 3, 3, 3, 1, 1, 1, 1, 1, 1, 1, 1]\n",
      "Nobody is speaking!\n",
      "[1, 0, 1, 1, 1, 1, 1, 3, 3, 3, 3, 3, 3, 3, 3]\n",
      "Davis is speaking!\n",
      "[3, 3, 3, 3, 3, 3, 3, 1, 0, 0, 0, 0, 0, 0, 0]\n",
      "Nobody is speaking!\n",
      "[0, 0, 0, 0, 0, 0, 0, 3, 3, 3, 3, 3, 3, 3, 3]\n",
      "Aashna is speaking!\n",
      "[3, 3, 3, 3, 3, 3, 3, 1, 1, 1, 1, 1, 1, 1, 1]\n",
      "Nobody is speaking!\n",
      "[1, 1, 1, 1, 1, 1, 1, 3, 3, 3, 3, 3, 3, 3, 3]\n",
      "Davis is speaking!\n",
      "[3, 3, 3, 3, 3, 3, 3, 0, 0, 0, 0, 0, 0, 0, 0]\n",
      "Nobody is speaking!\n",
      "[0, 0, 0, 0, 0, 0, 0, 3, 3, 3, 3, 3, 3, 3, 3]\n"
     ]
    },
    {
     "ename": "KeyboardInterrupt",
     "evalue": "",
     "output_type": "error",
     "traceback": [
      "\u001b[1;31m---------------------------------------------------------------------------\u001b[0m",
      "\u001b[1;31mKeyboardInterrupt\u001b[0m                         Traceback (most recent call last)",
      "\u001b[1;32m<ipython-input-6-0cfb4148cbb5>\u001b[0m in \u001b[0;36m<module>\u001b[1;34m()\u001b[0m\n\u001b[0;32m     46\u001b[0m \u001b[1;33m\u001b[0m\u001b[0m\n\u001b[0;32m     47\u001b[0m         \u001b[1;31m#Apply filters and cosine transform\u001b[0m\u001b[1;33m\u001b[0m\u001b[1;33m\u001b[0m\u001b[0m\n\u001b[1;32m---> 48\u001b[1;33m         \u001b[0mMFCCs\u001b[0m \u001b[1;33m=\u001b[0m \u001b[0mmap\u001b[0m\u001b[1;33m(\u001b[0m\u001b[0mdct\u001b[0m\u001b[1;33m,\u001b[0m \u001b[1;33m[\u001b[0m\u001b[1;33m[\u001b[0m\u001b[0mnp\u001b[0m\u001b[1;33m.\u001b[0m\u001b[0mdot\u001b[0m\u001b[1;33m(\u001b[0m\u001b[0mf\u001b[0m\u001b[1;33m,\u001b[0m \u001b[0mmelFilters\u001b[0m\u001b[1;33m[\u001b[0m\u001b[0mi\u001b[0m\u001b[1;33m]\u001b[0m\u001b[1;33m)\u001b[0m \u001b[1;32mfor\u001b[0m \u001b[0mi\u001b[0m \u001b[1;32min\u001b[0m \u001b[0mrange\u001b[0m\u001b[1;33m(\u001b[0m\u001b[1;36m26\u001b[0m\u001b[1;33m)\u001b[0m\u001b[1;33m]\u001b[0m \u001b[1;32mfor\u001b[0m \u001b[0mf\u001b[0m \u001b[1;32min\u001b[0m \u001b[0mffts\u001b[0m\u001b[1;33m]\u001b[0m\u001b[1;33m)\u001b[0m\u001b[1;33m\u001b[0m\u001b[0m\n\u001b[0m\u001b[0;32m     49\u001b[0m \u001b[1;33m\u001b[0m\u001b[0m\n\u001b[0;32m     50\u001b[0m         \u001b[1;31m#Calculate delta\u001b[0m\u001b[1;33m\u001b[0m\u001b[1;33m\u001b[0m\u001b[0m\n",
      "\u001b[1;31mKeyboardInterrupt\u001b[0m: "
     ]
    }
   ],
   "source": [
    "# LOOP VARIABLES\n",
    "tracker = [3 for _ in range(15)]\n",
    "key = {0:'Davis', 1:'Aashna', 2:'James', 3:'Nobody'}\n",
    "currdisp = 3\n",
    "\n",
    "#AUDIO VARIABLES\n",
    "FORMAT = pyaudio.paInt16\n",
    "CHANNELS = 1\n",
    "RATE = 44100\n",
    "CHUNK = 1024\n",
    "samplelen = 1323.0\n",
    "audio = pyaudio.PyAudio()\n",
    "stream = audio.open(format=FORMAT, channels=CHANNELS,\n",
    "                rate=RATE, input=True,\n",
    "                frames_per_buffer=CHUNK)\n",
    "\n",
    "#MFCC VARIABLES\n",
    "#Get frequency range\n",
    "T = samplelen/RATE\n",
    "frqLabel = map(lambda i: i/T, range(int(samplelen/2-1)))\n",
    "#Transform frequencies to Mel Frequencies\n",
    "melLabel = map(lambda i: 1125*log(1+i/700), frqLabel)\n",
    "melPoints = [(melLabel[-1]-1.0)/27*i for i in range(28)]\n",
    "melFilters = [[max(0, min(1.0/(melPoints[i+1]-melPoints[i])*(x-melPoints[i+1]+.0)+1.0,\n",
    "                        -1.0/(melPoints[i+2]-melPoints[i+1])*(x-melPoints[i+1]+.0)+1.0))\n",
    "             for x in melLabel] for i in range(26)]\n",
    "\n",
    "# THE LOOP\n",
    "print \"Nobody is speaking!\"\n",
    "while(True):\n",
    "\n",
    "    #RECORD SAMPLES\n",
    "    clip = []\n",
    "    for i in range(4): #int(RATE/CHUNK*0.33)):\n",
    "        frames = stream.read(CHUNK)\n",
    "        clip = np.append(clip,np.fromstring(frames, dtype=np.int16)/100.0)\n",
    "#     clip = clip[len(clip)*3/11:len(clip)*8/11]    \n",
    "    \n",
    "    if max(np.abs(clip)) < 10:\n",
    "        tracker.pop(0)\n",
    "        tracker.append(3)\n",
    "    else:\n",
    "        samples = [clip[i*samplelen/2:i*samplelen/2+samplelen] for i in range(int(len(clip)/samplelen*2))]\n",
    "        #Fourier Transform\n",
    "        ffts = [c[:samplelen/2-1] for c in map(lambda i: abs(fft(i)), samples[:-1])]\n",
    "\n",
    "        #Apply filters and cosine transform\n",
    "        MFCCs = map(dct, [[np.dot(f, melFilters[i]) for i in range(26)] for f in ffts])\n",
    "\n",
    "        #Calculate delta\n",
    "        delta = [(MFCCs[3][j]+2*MFCCs[4][j]-MFCCs[1][j]-2*MFCCs[0][j])/10.0\n",
    "                  for j in range(26)]\n",
    "\n",
    "        #Perform log-scaling\n",
    "        lnMFCC = [np.sign(MFCCs[2][i])*log(abs(MFCCs[2][i])/1000.0) for i in range(26)]\n",
    "        lnDelta = [np.sign(delta[i])*log(abs(delta[i])/10.0) for i in range(26)]\n",
    "        \n",
    "        point = np.concatenate((lnMFCC,lnDelta))\n",
    "        tracker.pop(0)\n",
    "        tracker.append(clf.predict(np.divide(point-meanX, varX))[0])\n",
    "\n",
    "    os.system('cls')\n",
    "    freq = max(set(tracker), key=tracker.count)\n",
    "    if freq != currdisp:\n",
    "        currdisp = freq\n",
    "        print key[freq]+\" is speaking!\"\n",
    "        print tracker\n",
    "        \n",
    "\n",
    "        \n",
    "#         plt.figure(1)\n",
    "#         plt.plot(np.divide(point[2:]-meanX, varX))\n",
    "#         plt.plot(np.divide(data[5000][0][2:]-meanX, varX))\n",
    "#         plt.figure(2)\n",
    "#         plt.plot(clip)\n"
   ]
  },
  {
   "cell_type": "code",
   "execution_count": 32,
   "metadata": {
    "collapsed": false
   },
   "outputs": [
    {
     "name": "stdout",
     "output_type": "stream",
     "text": [
      "[(0, 0), (0, 0), (0, 0), (0, 0), (0, 0), (0, 0), (0, 0), (0, 0), (0, 0), (0, 0), (0, 0), (0, 0), (0, 0), (0, 0), (0, 0), (0, 0), (0, 0), (0, 0), (0, 0), (0, 0), (0, 0), (0, 0), (0, 0), (0, 0), (0, 0), (0, 0), (0, 0), (0, 0), (0, 0), (0, 0), (0, 0), (0, 0), (0, 0), (0, 0), (0, 0), (0, 0), (0, 0), (0, 0), (0, 0), (0, 0), (0, 0), (0, 0), (0, 0), (0, 0), (0, 0), (0, 0), (0, 0), (0, 0), (0, 0), (0, 0)]\n"
     ]
    }
   ],
   "source": [
    "print map(lambda i: (clf.predict(np.divide(data[i][0]-meanX, varX))[0], data[i][1]), range(50))"
   ]
  }
 ],
 "metadata": {
  "kernelspec": {
   "display_name": "Python 2",
   "language": "python",
   "name": "python2"
  },
  "language_info": {
   "codemirror_mode": {
    "name": "ipython",
    "version": 2
   },
   "file_extension": ".py",
   "mimetype": "text/x-python",
   "name": "python",
   "nbconvert_exporter": "python",
   "pygments_lexer": "ipython2",
   "version": "2.7.6"
  }
 },
 "nbformat": 4,
 "nbformat_minor": 0
}
