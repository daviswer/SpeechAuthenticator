{
 "cells": [
  {
   "cell_type": "code",
   "execution_count": 1,
   "metadata": {
    "collapsed": false
   },
   "outputs": [],
   "source": [
    "%matplotlib inline\n",
    "\n",
    "from sklearn import svm\n",
    "from WAVreader import *\n",
    "# from QLing import *\n",
    "import matplotlib.pyplot as plt\n",
    "from sklearn.metrics import confusion_matrix\n",
    "import pyaudio\n",
    "import numpy as np\n",
    "from pylab import *\n",
    "from numpy import dot"
   ]
  },
  {
   "cell_type": "code",
   "execution_count": 147,
   "metadata": {
    "collapsed": false
   },
   "outputs": [
    {
     "name": "stdout",
     "output_type": "stream",
     "text": [
      "14.4615\n",
      "Scaled 1005 windows down to 751\n",
      "Finished file Audio/1-1.wav\n",
      "14.6035\n",
      "Scaled 883 windows down to 756\n",
      "Finished file Audio/2-1.wav\n",
      "14.5955\n",
      "Scaled 1285 windows down to 1004\n",
      "Finished file Audio/3-1.wav\n",
      "14.6025\n",
      "Scaled 806 windows down to 651\n",
      "Finished file Audio/4-1.wav\n",
      "14.598\n",
      "Scaled 891 windows down to 759\n",
      "Finished file Audio/5-1.wav\n",
      "14.6035\n",
      "Scaled 963 windows down to 821\n",
      "Finished file Audio/6-1.wav\n",
      "14.596\n",
      "Scaled 1265 windows down to 1013\n",
      "Finished file Audio/7-1.wav\n",
      "14.6015\n",
      "Scaled 1154 windows down to 916\n",
      "Finished file Audio/8-1.wav\n",
      "16.288\n",
      "Scaled 1091 windows down to 830\n",
      "Finished file Audio/9-1.wav\n",
      "\n",
      "Final data set consists of 7465 windows over 9 classes\n"
     ]
    }
   ],
   "source": [
    "filelist = ['Audio/1-1.wav',\n",
    "            'Audio/2-1.wav',\n",
    "            'Audio/3-1.wav',\n",
    "            'Audio/4-1.wav',\n",
    "            'Audio/5-1.wav',\n",
    "            'Audio/6-1.wav',\n",
    "            'Audio/7-1.wav',\n",
    "            'Audio/8-1.wav',\n",
    "            'Audio/9-1.wav'\n",
    "            ]\n",
    "info = WAVreader(filelist, [], 0.05)\n",
    "data = info.svmset"
   ]
  },
  {
   "cell_type": "code",
   "execution_count": 148,
   "metadata": {
    "collapsed": false
   },
   "outputs": [
    {
     "name": "stdout",
     "output_type": "stream",
     "text": [
      "5224 2241\n",
      "9 225\n"
     ]
    }
   ],
   "source": [
    "trainset, testset = [], []\n",
    "for i in xrange(len(data)):\n",
    "    if i%10 < 3: testset.append(data[i])\n",
    "    else: trainset.append(data[i])\n",
    "print len(trainset),len(testset)\n",
    "testarr = [[i for i in testset if i[1]==j] for j in range(info.numClasses)]\n",
    "trainarr = [[i for i in trainset if i[1]==j] for j in range(info.numClasses)]\n",
    "print len(testarr), len(testarr[0])"
   ]
  },
  {
   "cell_type": "code",
   "execution_count": 149,
   "metadata": {
    "collapsed": false
   },
   "outputs": [
    {
     "name": "stdout",
     "output_type": "stream",
     "text": [
      "{0: 9.9933065595716197, 1: 9.9268617021276597, 2: 7.4649999999999999, 3: 11.537867078825348, 4: 9.887417218543046, 5: 9.1370869033047732, 6: 7.3984142715559962, 7: 8.1853070175438596, 8: 9.0375302663438255}\n",
      "0.62787136294 0.560464078536\n"
     ]
    }
   ],
   "source": [
    "weights = map(lambda x: sum([1 if clip[1]==x else 0 for clip in data]), range(info.numClasses))\n",
    "weightdict = dict(zip(range(info.numClasses),[(sum(weights)+.0)/weight for weight in weights]))\n",
    "print weightdict\n",
    "\n",
    "clf = svm.SVC(class_weight=weightdict,probability=True,random_state=0)\n",
    "#Fetch the unlabeled data points\n",
    "X = np.array([clip[0] for clip in trainset])\n",
    "#Normalize the data\n",
    "meanX = np.mean(X, axis=0)\n",
    "varX = np.var(X, axis=0)\n",
    "standardX = np.divide(X-meanX, varX)\n",
    "Y = np.array([clip[1] for clip in trainset])\n",
    "clf.fit(standardX,Y) \n",
    "\n",
    "tX = np.array([clip[0] for clip in testset])\n",
    "tY = np.array([clip[1] for clip in testset])\n",
    "tstandardX = np.divide(tX-meanX, varX)\n",
    "\n",
    "print clf.score(standardX, Y), clf.score(tstandardX, tY)"
   ]
  },
  {
   "cell_type": "code",
   "execution_count": 150,
   "metadata": {
    "collapsed": false
   },
   "outputs": [
    {
     "name": "stdout",
     "output_type": "stream",
     "text": [
      "Confusion matrix\n",
      "[[182   5   4   3   0   4   3  23   1]\n",
      " [  7 119  20  17  12   6  19   7  18]\n",
      " [  2  34 165  14   7  17  23   8  30]\n",
      " [  4  17  16 106  31   4   5   9   3]\n",
      " [  2   8   2  32 156   1  20   4   1]\n",
      " [  6  12   6  11  12 134  14  44   6]\n",
      " [  6  13  10  12  41  28 152  25  16]\n",
      " [ 23   6   6  10  16  25   8 168  11]\n",
      " [  5  34  19   7  13  32  32  33  74]]\n"
     ]
    },
    {
     "data": {
      "image/png": "[encoded data removed]",
      "text/plain": [
       "<matplotlib.figure.Figure at 0x14e13978>"
      ]
     },
     "metadata": {},
     "output_type": "display_data"
    }
   ],
   "source": [
    "def plot_confusion_matrix(cm, title='Confusion matrix', cmap=plt.cm.Blues):\n",
    "    plt.imshow(cm, interpolation='nearest', cmap=cmap)\n",
    "    plt.title(title)\n",
    "    plt.colorbar()\n",
    "    plt.tight_layout()\n",
    "    plt.ylabel('True label')\n",
    "    plt.xlabel('Predicted label')\n",
    "\n",
    "ytrue = tY\n",
    "ypred = []\n",
    "for clip in tstandardX:\n",
    "    ypred.append(clf.predict(clip))\n",
    "confusion=confusion_matrix(ytrue, ypred)\n",
    "cm_normalized = confusion.astype('float') / confusion.sum(axis=1)[:, np.newaxis]\n",
    "print('Confusion matrix')\n",
    "print(confusion)\n",
    "plt.figure()\n",
    "plot_confusion_matrix(cm_normalized, title='Normalized confusion matrix')"
   ]
  },
  {
   "cell_type": "code",
   "execution_count": 151,
   "metadata": {
    "collapsed": false
   },
   "outputs": [
    {
     "name": "stdout",
     "output_type": "stream",
     "text": [
      "0.558357123548\n",
      "0.564755035447\n",
      "0.56153785635\n"
     ]
    }
   ],
   "source": [
    "precisions = np.array([(confusion[i][i]+0.0)/np.sum(confusion, axis=0)[i] for i in range(info.numClasses)])\n",
    "meanp = np.mean(precisions)\n",
    "recalls = np.array([(confusion[i][i]+0.0)/sum(confusion[i]) for i in range(info.numClasses)])\n",
    "meanr = np.mean(recalls)\n",
    "F1 = 2*meanr*meanp/(meanr+meanp)\n",
    "print meanp\n",
    "print meanr\n",
    "print F1"
   ]
  },
  {
   "cell_type": "code",
   "execution_count": 164,
   "metadata": {
    "collapsed": false
   },
   "outputs": [
    {
     "name": "stdout",
     "output_type": "stream",
     "text": [
      "completed iteration 100; error is 0.279751376342; size is 6.15600451565\n",
      "completed iteration 200; error is 0.172777011397; size is 6.31343310279\n",
      "completed iteration 300; error is 5.05650904128; size is 6.31278541119\n",
      "completed iteration 400; error is 0.183032018659; size is 6.33463371074\n",
      "completed iteration 500; error is 3.44063696574; size is 6.26327951977\n",
      "completed iteration 600; error is 1.7712868084; size is 6.31936763053\n",
      "completed iteration 700; error is 0.146144694187; size is 6.29669705433\n",
      "completed iteration 800; error is 1.81760518832; size is 6.31248571225\n",
      "completed iteration 900; error is 0.109625874809; size is 6.29059120826\n",
      "completed iteration 1000; error is 0.101577887753; size is 6.26410538971\n",
      "completed iteration 1100; error is 1.82410180862; size is 6.24609536426\n",
      "completed iteration 1200; error is 0.501200273426; size is 6.24270696245\n",
      "completed iteration 1300; error is 0.396759431329; size is 6.27295348093\n",
      "completed iteration 1400; error is 0.386934297744; size is 6.27650950303\n",
      "completed iteration 1500; error is 1.79449336644; size is 6.24504430381\n",
      "completed iteration 1600; error is 1.82673414394; size is 6.20949304297\n",
      "completed iteration 1700; error is 0.125301226662; size is 6.17990197551\n",
      "completed iteration 1800; error is 3.54105956259; size is 6.15301227208\n",
      "completed iteration 1900; error is 0.435774491104; size is 6.13157811331\n",
      "completed iteration 2000; error is 1.79363732521; size is 6.14092382003\n",
      "[[-0.19349972]\n",
      " [-0.25650943]\n",
      " [ 0.27914287]\n",
      " [ 0.00498126]\n",
      " [ 0.13692213]\n",
      " [ 0.0446734 ]\n",
      " [-0.11139208]\n",
      " [ 0.04672616]\n",
      " [ 0.50404666]] [[  1.47067973e-02   5.40015886e-03  -5.88679781e-03  -8.82424252e-05\n",
      "   -7.54154039e-03  -7.38022462e-03   8.02448246e-03  -1.37074642e-03\n",
      "   -1.74900436e-02]\n",
      " [  1.64758027e-02   4.79262093e-03  -5.10156472e-03  -2.28026610e-05\n",
      "   -7.20563538e-03  -9.09370894e-03   7.73545473e-03  -1.59595538e-03\n",
      "   -1.56755702e-02]\n",
      " [  1.90144611e-02   4.55801663e-03  -4.88074704e-03  -2.81130870e-04\n",
      "   -7.45611848e-03  -1.09708889e-02   8.10487526e-03  -1.89771281e-03\n",
      "   -1.43094966e-02]\n",
      " [  2.19985064e-02   3.58871610e-03  -3.57766565e-03  -2.38860373e-04\n",
      "   -7.14421103e-03  -1.35045709e-02   7.94069694e-03  -2.64756733e-03\n",
      "   -1.16446147e-02]\n",
      " [  2.59715825e-02   2.19090300e-03  -2.15576733e-03  -2.94340339e-04\n",
      "   -7.10046430e-03  -1.58195604e-02   7.94205994e-03  -3.41252112e-03\n",
      "   -8.01268484e-03]\n",
      " [  3.19595525e-02  -1.06578378e-03   1.89831445e-03  -6.96215042e-04\n",
      "   -5.88424000e-03  -1.97076359e-02   6.89461841e-03  -4.27651767e-03\n",
      "   -6.63630209e-04]\n",
      " [  4.38777184e-02  -9.11338985e-03   1.06362424e-02  -7.30638193e-04\n",
      "   -1.21775661e-03  -2.87913030e-02   2.60859497e-03  -6.99173945e-03\n",
      "    1.40354681e-02]\n",
      " [  6.62187525e-02  -3.81536651e-02   4.17425187e-02  -1.15353997e-03\n",
      "    1.66355892e-02  -4.45193630e-02  -1.30439754e-02  -1.17001022e-02\n",
      "    6.12736073e-02]\n",
      " [ -1.29812176e-01  -2.48159389e-01   2.58538960e-01   5.02383721e-03\n",
      "    1.83140257e-01  -7.76378448e-02  -1.66573300e-01   3.54533593e-02\n",
      "    3.44571734e-01]\n",
      " [ -1.94330899e-03  -3.33417032e-01   3.51526658e-01   1.75339924e-03\n",
      "    2.29639121e-01  -1.77559845e-01  -2.08811364e-01   9.65645620e-03\n",
      "    5.24241082e-01]\n",
      " [ -8.80850053e-02   3.61720560e-01  -3.79684116e-01  -4.47267915e-05\n",
      "   -2.54455758e-01   7.65631922e-02   2.26771374e-01   2.56478194e-02\n",
      "   -5.34619850e-01]\n",
      " [  1.24730923e-02   6.45948310e-03  -6.72675284e-03   1.72121759e-05\n",
      "   -8.18541763e-03  -5.51149919e-03   8.74749819e-03  -8.71118141e-04\n",
      "   -1.91428571e-02]]\n"
     ]
    },
    {
     "data": {
      "image/png": "[encoded data removed]",
      "text/plain": [
       "<matplotlib.figure.Figure at 0x35a3f98>"
      ]
     },
     "metadata": {},
     "output_type": "display_data"
    },
    {
     "data": {
      "image/png": "[encoded data removed]",
      "text/plain": [
       "<matplotlib.figure.Figure at 0x108dca20>"
      ]
     },
     "metadata": {},
     "output_type": "display_data"
    },
    {
     "data": {
      "image/png": "[encoded data removed]",
      "text/plain": [
       "<matplotlib.figure.Figure at 0x14e130f0>"
      ]
     },
     "metadata": {},
     "output_type": "display_data"
    }
   ],
   "source": [
    "Q = QLNetwork(predictor = lambda x: clf.predict_proba(np.divide(x-meanX, varX)),\n",
    "              trainset = trainarr, num_classes=info.numClasses, reward=[1,-1,-0.032], gamma=0.999)\n",
    "Q.train(progress_interval=100, maxruns=2000, \n",
    "        annealEpsilon = lambda run: 1.0/(1+sqrt(run)), \n",
    "        annealAlpha = lambda run: 1.0/(10+run),\n",
    "       super_verbose = False,\n",
    "       lmbda = 0.1)\n",
    "plt.figure(0)\n",
    "plt.plot(Q.tracker[-100:])\n",
    "plt.figure(1)\n",
    "plt.plot(Q.errtracker)\n",
    "plt.figure(2)\n",
    "plt.plot(Q.timetracker)\n",
    "print Q.oweights, Q.iweights"
   ]
  },
  {
   "cell_type": "code",
   "execution_count": 136,
   "metadata": {
    "collapsed": false
   },
   "outputs": [],
   "source": [
    "import numpy as np\n",
    "import random\n",
    "import sys\n",
    "import math\n",
    "from copy import deepcopy\n",
    "from random import shuffle, sample\n",
    "from numpy import dot, outer\n",
    "\n",
    "class QLNetwork:\n",
    "    def __init__(self, trainset = None, predictor = None, num_classes = 2, reward = [], gamma = 0.9, afunc=np.tanh, d_afunc=(lambda z : 1.0 - z**2)):\n",
    "        self.trainset = trainset\n",
    "        self.predictor = predictor\n",
    "        self.afunc = afunc \n",
    "        self.d_afunc = d_afunc\n",
    "        self.numClasses = num_classes\n",
    "        \n",
    "        #Markov Process structures\n",
    "        self.preds = np.ones(num_classes)\n",
    "        self.numSamples = 0\n",
    "        self.goodReward, self.badReward, self.sampleReward = reward\n",
    "        self.done = False\n",
    "        self.curSpeaker = 0\n",
    "        self.gamma = gamma\n",
    "        \n",
    "        #NN structures\n",
    "        self.input = np.zeros(num_classes+3)\n",
    "        self.hidden = np.ones(num_classes)\n",
    "        self.output = np.ones(1)\n",
    "        self.iweights = np.random.normal(scale=0.0001, size=(num_classes+3, num_classes))\n",
    "        self.oweights = np.random.normal(scale=0.0001, size=(num_classes, 1)) \n",
    "        self.ierr = np.zeros(self.iweights.shape)\n",
    "        self.oerr = np.zeros(self.oweights.shape)\n",
    "        self.tracker = [0]\n",
    "        self.errtracker = []\n",
    "        self.timetracker = [0]\n",
    "        \n",
    "    def getQ(self, action):\n",
    "        \n",
    "        \n",
    "        self.input = np.append(np.sort(self.preds), [self.numSamples, action,1])\n",
    "#         print self.input\n",
    "        self.hidden = self.afunc(dot(self.input, self.iweights))\n",
    "        self.output = self.afunc(dot(self.hidden, self.oweights))\n",
    "        return self.output[0]\n",
    "        \n",
    "    def step(self, alpha=0.5, epsilon=0.5, super_verbose=False):\n",
    "        #GET EPSILON GREEDY ACTION\n",
    "        action = 0\n",
    "        ran = False\n",
    "        if epsilon < random.random():\n",
    "            #INTENTIONAL\n",
    "            action = -1 if self.getQ(-1)>self.getQ(1) else 1\n",
    "        else:\n",
    "            #RANDOM\n",
    "            ran = True\n",
    "            action = random.sample([-1,1],1)[0]\n",
    "        #MAKE PREDICTION\n",
    "        pred = self.getQ(action)\n",
    "        reward = 0\n",
    "        Qprime = 0\n",
    "        #APPLY ACTION\n",
    "        if action==1 or self.numSamples==len(self.trainset[self.curSpeaker]):\n",
    "            #PREDICT\n",
    "            choice = np.argmax(self.preds)\n",
    "            if choice==self.curSpeaker and not np.array_equal(self.preds[0]*np.ones(self.numClasses), self.preds):\n",
    "                #CORRECT\n",
    "                reward = self.goodReward\n",
    "                self.tracker.append(1)#self.tracker[-1]+1)\n",
    "            else:\n",
    "                #INCORRECT\n",
    "                reward = self.badReward\n",
    "                self.tracker.append(0)#self.tracker[-1]-1)\n",
    "            self.done = True\n",
    "            self.timetracker.append((self.timetracker[-1]+self.numSamples)/2)\n",
    "        else:\n",
    "            #RESAMPLE\n",
    "            probs = self.predictor(self.trainset[self.curSpeaker][self.numSamples][0])\n",
    "            self.numSamples += 1\n",
    "            self.preds = self.preds + probs\n",
    "            reward = self.sampleReward\n",
    "            Qprime = self.getQ(0) if self.getQ(0)>self.getQ(1) else self.getQ(1)\n",
    "        #GET ERROR, PERFORM BACKPROP\n",
    "        oerr = reward+self.gamma*Qprime-pred\n",
    "        if self.done and super_verbose:\n",
    "            print \"Outer error is \"+str(oerr)+\", confidences are \"+str(sorted(self.preds))+\", result is \"+str(reward)+\" \"+str(ran)\n",
    "        herr = dot(oerr, self.oweights.T) * self.d_afunc(self.hidden)\n",
    "        self.oweights += alpha * outer(self.hidden, oerr)\n",
    "        self.iweights += alpha * outer(self.input, herr)\n",
    "        return np.sum(0.5 * oerr**2)\n",
    "\n",
    "    def train(self, maxruns=100, annealAlpha = lambda x: 0.001, annealEpsilon = lambda x: 0.5, epsilon=1.5e-8, \n",
    "              progress_interval=1000, super_verbose=False, lmbda = 0.1):       \n",
    "        run = 0\n",
    "        error = sys.float_info.max\n",
    "        while error > epsilon and run < maxruns:\n",
    "            for speaker in self.trainset:\n",
    "                shuffle(speaker)\n",
    "            error = 0.0\n",
    "            alpha = annealAlpha(run)\n",
    "            self.iweights *= 1-alpha*lmbda\n",
    "            self.oweights *= 1-alpha*lmbda\n",
    "            for i in range(self.numClasses):\n",
    "                self.curSpeaker = i\n",
    "                while(self.done == False):\n",
    "                    error += self.step(alpha=alpha, epsilon=annealEpsilon(run), super_verbose = super_verbose)\n",
    "                #RESET FOR NEW RUN\n",
    "                self.numSamples = 0\n",
    "                self.done = False\n",
    "                self.preds = np.ones(self.numClasses)\n",
    "                \n",
    "            run += 1\n",
    "            self.errtracker.append(error)\n",
    "            if run%progress_interval==0:\n",
    "                print 'completed iteration %s; error is %s; size is %s' % (run, error, np.sum(np.absolute(self.iweights)))\n",
    "            \n",
    "    def accuracy(self, data):\n",
    "        score = 0.0\n",
    "        for ex, label in data:\n",
    "            if self.predict(ex)[0]/abs(self.predict(ex)[0])==label: score+=1\n",
    "        return score/len(data)\n",
    "            \n"
   ]
  },
  {
   "cell_type": "code",
   "execution_count": null,
   "metadata": {
    "collapsed": true
   },
   "outputs": [],
   "source": []
  },
  {
   "cell_type": "code",
   "execution_count": null,
   "metadata": {
    "collapsed": true
   },
   "outputs": [],
   "source": []
  },
  {
   "cell_type": "code",
   "execution_count": null,
   "metadata": {
    "collapsed": true
   },
   "outputs": [],
   "source": []
  },
  {
   "cell_type": "code",
   "execution_count": 7,
   "metadata": {
    "collapsed": false
   },
   "outputs": [
    {
     "data": {
      "text/plain": [
       "[<matplotlib.lines.Line2D at 0x1099a438>]"
      ]
     },
     "execution_count": 7,
     "metadata": {},
     "output_type": "execute_result"
    },
    {
     "data": {
      "image/png": "[encoded data removed]",
      "text/plain": [
       "<matplotlib.figure.Figure at 0x10d78c88>"
      ]
     },
     "metadata": {},
     "output_type": "display_data"
    }
   ],
   "source": [
    "probs = clf.predict_proba(np.divide([d[0] for d in testset]-meanX, varX))\n",
    "plt.figure()\n",
    "plt.plot([i[1] for i in probs])\n"
   ]
  }
 ],
 "metadata": {
  "kernelspec": {
   "display_name": "Python 2",
   "language": "python",
   "name": "python2"
  },
  "language_info": {
   "codemirror_mode": {
    "name": "ipython",
    "version": 2
   },
   "file_extension": ".py",
   "mimetype": "text/x-python",
   "name": "python",
   "nbconvert_exporter": "python",
   "pygments_lexer": "ipython2",
   "version": "2.7.6"
  }
 },
 "nbformat": 4,
 "nbformat_minor": 0
}
