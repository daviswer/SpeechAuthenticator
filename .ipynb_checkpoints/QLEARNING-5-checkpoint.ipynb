{
 "cells": [
  {
   "cell_type": "code",
   "execution_count": 1,
   "metadata": {
    "collapsed": false
   },
   "outputs": [],
   "source": [
    "%matplotlib inline\n",
    "\n",
    "from sklearn import svm\n",
    "from WAVreader import *\n",
    "# from QLing import *\n",
    "import matplotlib.pyplot as plt\n",
    "from sklearn.metrics import confusion_matrix\n",
    "import pyaudio\n",
    "import numpy as np\n",
    "from pylab import *\n",
    "from numpy import dot"
   ]
  },
  {
   "cell_type": "code",
   "execution_count": 73,
   "metadata": {
    "collapsed": false
   },
   "outputs": [
    {
     "name": "stdout",
     "output_type": "stream",
     "text": [
      "14.4615\n",
      "Scaled 1005 windows down to 751\n",
      "Finished file Audio/1-1.wav\n",
      "14.6035\n",
      "Scaled 883 windows down to 756\n",
      "Finished file Audio/2-1.wav\n",
      "14.5955\n",
      "Scaled 1285 windows down to 1004\n",
      "Finished file Audio/3-1.wav\n",
      "14.6025\n",
      "Scaled 806 windows down to 651\n",
      "Finished file Audio/4-1.wav\n",
      "14.598\n",
      "Scaled 891 windows down to 759\n",
      "Finished file Audio/5-1.wav\n",
      "14.6035\n",
      "Scaled 963 windows down to 821\n",
      "Finished file Audio/6-1.wav\n",
      "14.603\n",
      "Scaled 1013 windows down to 763\n",
      "Finished file Audio/1-2.wav\n",
      "14.1525\n",
      "Scaled 895 windows down to 789\n",
      "Finished file Audio/2-2.wav\n",
      "14.6025\n",
      "Scaled 1176 windows down to 985\n",
      "Finished file Audio/3-2.wav\n",
      "13.49\n",
      "Scaled 1574 windows down to 1159\n",
      "Finished file Audio/4-2.wav\n",
      "14.601\n",
      "Scaled 1504 windows down to 1161\n",
      "Finished file Audio/5-2.wav\n",
      "14.6025\n",
      "Scaled 1321 windows down to 1081\n",
      "Finished file Audio/6-2.wav\n",
      "\n",
      "Final data set consists of 10632 windows over 6 classes\n"
     ]
    }
   ],
   "source": [
    "filelist = ['Audio/1-1.wav',\n",
    "            'Audio/2-1.wav',\n",
    "            'Audio/3-1.wav',\n",
    "            'Audio/4-1.wav',\n",
    "            'Audio/5-1.wav',\n",
    "            'Audio/6-1.wav',\n",
    "#             'Audio/7-1.wav',\n",
    "#             'Audio/8-1.wav',\n",
    "#             'Audio/9-1.wav',\n",
    "            'Audio/1-2.wav',\n",
    "            'Audio/2-2.wav',\n",
    "            'Audio/3-2.wav',\n",
    "            'Audio/4-2.wav',\n",
    "            'Audio/5-2.wav',\n",
    "            'Audio/6-2.wav',\n",
    "#             'Audio/7-2.wav',\n",
    "#             'Audio/8-2.wav',\n",
    "#             'Audio/9-2.wav'\n",
    "            ]\n",
    "info = WAVreader(filelist, [0,1,2,3,4,5,0,1,2,3,4,5], 0.05)\n",
    "data = info.svmset"
   ]
  },
  {
   "cell_type": "code",
   "execution_count": 74,
   "metadata": {
    "collapsed": false
   },
   "outputs": [
    {
     "name": "stdout",
     "output_type": "stream",
     "text": [
      "7441 3191\n",
      "6 453\n"
     ]
    }
   ],
   "source": [
    "trainset, testset = [], []\n",
    "for i in xrange(len(data)):\n",
    "    if i%10 < 3: testset.append(data[i])\n",
    "    else: trainset.append(data[i])\n",
    "print len(trainset),len(testset)\n",
    "testarr = [[i for i in testset if i[1]==j] for j in range(info.numClasses)]\n",
    "trainarr = [[i for i in trainset if i[1]==j] for j in range(info.numClasses)]\n",
    "print len(testarr), len(testarr[0])"
   ]
  },
  {
   "cell_type": "code",
   "execution_count": 75,
   "metadata": {
    "collapsed": false
   },
   "outputs": [
    {
     "name": "stdout",
     "output_type": "stream",
     "text": [
      "{0: 7.0597609561752988, 1: 6.9173715029277814, 2: 5.366986370519939, 3: 5.9001109877913427, 4: 5.5606694560669458, 5: 5.6135163674762412}\n",
      "0.655557048784 0.626449388906\n"
     ]
    }
   ],
   "source": [
    "weights = map(lambda x: sum([1 if clip[1]==x else 0 for clip in data]), range(info.numClasses))\n",
    "weightdict = dict(zip(range(info.numClasses),[(sum(weights)+.0)/weight for weight in weights]))\n",
    "print weightdict\n",
    "\n",
    "clf = svm.SVC(class_weight=weightdict,probability=True,random_state=0)\n",
    "#Fetch the unlabeled data points\n",
    "X = np.array([clip[0] for clip in trainset])\n",
    "#Normalize the data\n",
    "meanX = np.mean(X, axis=0)\n",
    "varX = np.var(X, axis=0)\n",
    "standardX = np.divide(X-meanX, varX)\n",
    "Y = np.array([clip[1] for clip in trainset])\n",
    "clf.fit(standardX,Y) \n",
    "\n",
    "tX = np.array([clip[0] for clip in testset])\n",
    "tY = np.array([clip[1] for clip in testset])\n",
    "tstandardX = np.divide(tX-meanX, varX)\n",
    "\n",
    "print clf.score(standardX, Y), clf.score(tstandardX, tY)"
   ]
  },
  {
   "cell_type": "code",
   "execution_count": 76,
   "metadata": {
    "collapsed": false
   },
   "outputs": [
    {
     "name": "stdout",
     "output_type": "stream",
     "text": [
      "Confusion matrix\n",
      "[[355  17  26  14  13  28]\n",
      " [ 20 236  51  59  49  46]\n",
      " [ 26  64 381  43  31  50]\n",
      " [  9  61  53 299  77  41]\n",
      " [ 12  32  14  98 398  20]\n",
      " [ 43  58  43  53  41 330]]\n"
     ]
    },
    {
     "data": {
      "image/png": "[encoded data removed]",
      "text/plain": [
       "<matplotlib.figure.Figure at 0x20b31a90>"
      ]
     },
     "metadata": {},
     "output_type": "display_data"
    }
   ],
   "source": [
    "def plot_confusion_matrix(cm, title='Confusion matrix', cmap=plt.cm.Blues):\n",
    "    plt.imshow(cm, interpolation='nearest', cmap=cmap)\n",
    "    plt.title(title)\n",
    "    plt.colorbar()\n",
    "    plt.tight_layout()\n",
    "    plt.ylabel('True label')\n",
    "    plt.xlabel('Predicted label')\n",
    "\n",
    "ytrue = tY\n",
    "ypred = []\n",
    "for clip in tstandardX:\n",
    "    ypred.append(clf.predict(clip))\n",
    "confusion=confusion_matrix(ytrue, ypred)\n",
    "cm_normalized = confusion.astype('float') / confusion.sum(axis=1)[:, np.newaxis]\n",
    "print('Confusion matrix')\n",
    "print(confusion)\n",
    "plt.figure()\n",
    "plot_confusion_matrix(cm_normalized, title='Normalized confusion matrix')"
   ]
  },
  {
   "cell_type": "code",
   "execution_count": 77,
   "metadata": {
    "collapsed": false
   },
   "outputs": [
    {
     "name": "stdout",
     "output_type": "stream",
     "text": [
      "0.626844106718\n",
      "0.627333431573\n",
      "0.627088673689\n"
     ]
    }
   ],
   "source": [
    "precisions = np.array([(confusion[i][i]+0.0)/np.sum(confusion, axis=0)[i] for i in range(info.numClasses)])\n",
    "meanp = np.mean(precisions)\n",
    "recalls = np.array([(confusion[i][i]+0.0)/sum(confusion[i]) for i in range(info.numClasses)])\n",
    "meanr = np.mean(recalls)\n",
    "F1 = 2*meanr*meanp/(meanr+meanp)\n",
    "print meanp\n",
    "print meanr\n",
    "print F1"
   ]
  },
  {
   "cell_type": "code",
   "execution_count": 91,
   "metadata": {
    "collapsed": false
   },
   "outputs": [],
   "source": [
    "import numpy as np\n",
    "import random\n",
    "import sys\n",
    "import math\n",
    "from copy import deepcopy\n",
    "from random import shuffle, sample\n",
    "from numpy import dot, outer\n",
    "\n",
    "class QLNetwork:\n",
    "    def __init__(self, trainset = None, predictor = None, num_classes = 2, reward = [], gamma = 0.9, afunc=np.tanh, d_afunc=(lambda z : 1.0 - z**2)):\n",
    "        self.trainset = trainset\n",
    "        self.predictor = predictor\n",
    "        self.afunc = afunc \n",
    "        self.d_afunc = d_afunc\n",
    "        self.numClasses = num_classes\n",
    "        \n",
    "        #Markov Process structures\n",
    "        self.preds = np.ones(num_classes)\n",
    "        self.numSamples = 0\n",
    "        self.goodReward, self.badReward, self.sampleReward = reward\n",
    "        self.done = False\n",
    "        self.curSpeaker = 0\n",
    "        self.gamma = gamma\n",
    "        \n",
    "        #NN structures\n",
    "        self.input = np.zeros(num_classes+3)\n",
    "        self.hidden = np.ones(num_classes)\n",
    "        self.output = np.ones(1)\n",
    "        self.iweights = np.random.normal(scale=0.0001, size=(num_classes+3, num_classes))\n",
    "        self.oweights = np.random.normal(scale=0.0001, size=(num_classes, 1)) \n",
    "        self.ierr = np.zeros(self.iweights.shape)\n",
    "        self.oerr = np.zeros(self.oweights.shape)\n",
    "        self.tracker = [0]\n",
    "        self.errtracker = []\n",
    "        self.timetracker = [0]\n",
    "        \n",
    "    def getQ(self, action):\n",
    "        self.input = np.append(np.sort(self.preds), [self.numSamples, action,1])\n",
    "        self.hidden = self.afunc(dot(self.input, self.iweights))\n",
    "        self.output = self.afunc(dot(self.hidden, self.oweights))\n",
    "        return self.output[0]\n",
    "        \n",
    "    def step(self, alpha=0.5, epsilon=0.5, super_verbose=False):\n",
    "        #GET EPSILON GREEDY ACTION\n",
    "        action = 0\n",
    "        ran = False\n",
    "        if epsilon < random.random():\n",
    "            #INTENTIONAL\n",
    "            action = -1 if self.getQ(-1)>self.getQ(1) else 1\n",
    "        else:\n",
    "            #RANDOM\n",
    "            ran = True\n",
    "            action = random.sample([-1,1],1)[0]\n",
    "        #MAKE PREDICTION\n",
    "        pred = self.getQ(action)\n",
    "        reward = 0\n",
    "        Qprime = 0\n",
    "        #APPLY ACTION\n",
    "        if action==1 or self.numSamples==len(self.trainset[self.curSpeaker]):\n",
    "            #PREDICT\n",
    "            choice = np.argmax(self.preds)\n",
    "            if choice==self.curSpeaker and not np.array_equal(self.preds[0]*np.ones(self.numClasses), self.preds):\n",
    "                #CORRECT\n",
    "                reward = self.goodReward\n",
    "                self.tracker.append(1)#self.tracker[-1]+1)\n",
    "            else:\n",
    "                #INCORRECT\n",
    "                reward = self.badReward\n",
    "                self.tracker.append(0)#self.tracker[-1]-1)\n",
    "            self.done = True\n",
    "            self.timetracker.append((self.timetracker[-1]+self.numSamples)/2)\n",
    "        else:\n",
    "            #RESAMPLE\n",
    "            probs = self.predictor(self.trainset[self.curSpeaker][self.numSamples][0])\n",
    "            self.numSamples += 1\n",
    "            self.preds = self.preds + probs\n",
    "            reward = self.sampleReward\n",
    "            Qprime = self.getQ(0) if self.getQ(0)>self.getQ(1) else self.getQ(1)\n",
    "        #GET ERROR, PERFORM BACKPROP\n",
    "        oerr = reward+self.gamma*Qprime-pred\n",
    "        if self.done and super_verbose:\n",
    "            print \"Outer error is \"+str(oerr)+\", confidences are \"+str(sorted(self.preds))+\", result is \"+str(reward)+\" \"+str(ran)\n",
    "        herr = dot(oerr, self.oweights.T) * self.d_afunc(self.hidden)\n",
    "        self.oweights += alpha * outer(self.hidden, oerr)\n",
    "        self.iweights += alpha * outer(self.input, herr)\n",
    "        self.errtracker.append(np.sum(0.5*oerr**2))\n",
    "    \n",
    "    def predict(self, speakerarr):\n",
    "        action = -1 if self.getQ(-1)>self.getQ(1) else 1\n",
    "        if action==1 or self.numSamples==len(speakerarr):\n",
    "            #CONCLUDE, RETURN TO CHECKER\n",
    "            self.done = True\n",
    "        else:\n",
    "            #RESAMPLE\n",
    "            probs = self.predictor(speakerarr[self.numSamples][0])\n",
    "            self.numSamples += 1\n",
    "            self.preds = self.preds + probs\n",
    "\n",
    "    def train(self, maxruns=100, annealAlpha = lambda x: 0.001, annealEpsilon = lambda x: 0.5, epsilon=1.5e-8, \n",
    "              progress_interval=1000, super_verbose=False, lmbda = 0.1):       \n",
    "        run = 0\n",
    "        error = sys.float_info.max\n",
    "        while error > epsilon and run < maxruns:\n",
    "            for speaker in self.trainset:\n",
    "                shuffle(speaker)\n",
    "            alpha = annealAlpha(run)\n",
    "            self.iweights *= 1-alpha*lmbda\n",
    "            self.oweights *= 1-alpha*lmbda\n",
    "            for i in range(self.numClasses):\n",
    "                self.curSpeaker = i\n",
    "                while(self.done == False):\n",
    "                    self.step(alpha=alpha, epsilon=annealEpsilon(run), super_verbose = super_verbose)\n",
    "                #RESET FOR NEW RUN\n",
    "                self.numSamples = 0\n",
    "                self.done = False\n",
    "                self.preds = np.ones(self.numClasses)\n",
    "                \n",
    "            run += 1\n",
    "            if run%progress_interval==0:\n",
    "                print 'completed iteration %s; size is %s' % (run, np.sum(np.absolute(self.iweights)))\n",
    "            \n",
    "    def test(self, testset, maxiter=100):\n",
    "        score = 0\n",
    "        runtime = 0\n",
    "        mintime = 1000000\n",
    "        maxtime = -1\n",
    "        for speaker in testset:\n",
    "            for _ in xrange(maxiter):\n",
    "                #RESET\n",
    "                shuffle(speaker)\n",
    "                self.done = False\n",
    "                self.numSamples = 0\n",
    "                self.preds = np.ones(self.numClasses)\n",
    "                #RESAMPLE UNTIL DONE\n",
    "                while self.done == False:\n",
    "                    self.predict(speaker)\n",
    "                #TEST PREDICTION\n",
    "                choice = np.argmax(self.preds)\n",
    "                runtime += self.numSamples\n",
    "                mintime = min(mintime, self.numSamples)\n",
    "                maxtime = max(maxtime, self.numSamples)\n",
    "                score += 1 if np.argmax(self.preds)==speaker[0][1] else 0\n",
    "        return ((score+0.0)/(maxiter*self.numClasses), (runtime+0.0)/(maxiter*self.numClasses),\n",
    "               mintime, maxtime)\n",
    "            \n"
   ]
  },
  {
   "cell_type": "code",
   "execution_count": 89,
   "metadata": {
    "collapsed": false
   },
   "outputs": [
    {
     "name": "stdout",
     "output_type": "stream",
     "text": [
      "Finished 0, acc=0.653333, time=1.000000!\n",
      "Finished 1, acc=0.900000, time=4.116667!\n",
      "Finished 2, acc=1.000000, time=30.833333!\n",
      "Finished 3, acc=0.996667, time=19.476667!\n",
      "Finished 4, acc=1.000000, time=68.820000!\n",
      "Finished 5, acc=1.000000, time=65.686667!\n"
     ]
    }
   ],
   "source": [
    "pens = [-.1, -.05, -.025, -.0125, -.00625, 0]\n",
    "Qacc = np.zeros(len(pens))\n",
    "Qtime = np.zeros(len(pens))\n",
    "Qmin = np.zeros(len(pens))\n",
    "Qmax = np.zeros(len(pens))\n",
    "for i in range(len(pens)):\n",
    "    Q = QLNetwork(predictor = lambda x: clf.predict_proba(np.divide(x-meanX, varX)),\n",
    "              trainset = trainarr, num_classes=info.numClasses, reward=[1,-1, pens[i]], gamma=0.995)\n",
    "    Q.train(maxruns=500, \n",
    "            annealEpsilon = lambda run: 1.0/(1+sqrt(run)), \n",
    "            annealAlpha = lambda run: 1.0/(info.numClasses*(1+run)),\n",
    "            lmbda = 0.02*info.numClasses)\n",
    "    s, t, mi, ma = Q.test(testarr, maxiter=50)\n",
    "    Qacc[i] = s\n",
    "    Qtime[i] = t\n",
    "    Qmin[i] = mi\n",
    "    Qmax[i] = ma\n",
    "    print \"Finished %d, acc=%f, time=%f!\" % (i, Qacc[i], Qtime[i])"
   ]
  },
  {
   "cell_type": "code",
   "execution_count": 90,
   "metadata": {
    "collapsed": false
   },
   "outputs": [
    {
     "name": "stdout",
     "output_type": "stream",
     "text": [
      "[ 0.65333333  0.9         1.          0.99666667  1.          1.        ]\n",
      "[  1.           4.11666667  30.83333333  19.47666667  68.82        65.68666667]\n",
      "[  1.   4.  28.  18.  62.  60.]\n",
      "[  1.   5.  33.  21.  75.  72.]\n"
     ]
    }
   ],
   "source": [
    "print Qacc\n",
    "print Qtime\n",
    "print Qmin\n",
    "print Qmax"
   ]
  },
  {
   "cell_type": "code",
   "execution_count": null,
   "metadata": {
    "collapsed": true
   },
   "outputs": [],
   "source": []
  },
  {
   "cell_type": "code",
   "execution_count": null,
   "metadata": {
    "collapsed": true
   },
   "outputs": [],
   "source": []
  },
  {
   "cell_type": "code",
   "execution_count": null,
   "metadata": {
    "collapsed": true
   },
   "outputs": [],
   "source": []
  },
  {
   "cell_type": "code",
   "execution_count": null,
   "metadata": {
    "collapsed": true
   },
   "outputs": [],
   "source": []
  },
  {
   "cell_type": "code",
   "execution_count": null,
   "metadata": {
    "collapsed": true
   },
   "outputs": [],
   "source": []
  },
  {
   "cell_type": "code",
   "execution_count": null,
   "metadata": {
    "collapsed": true
   },
   "outputs": [],
   "source": []
  },
  {
   "cell_type": "code",
   "execution_count": 86,
   "metadata": {
    "collapsed": false
   },
   "outputs": [
    {
     "name": "stdout",
     "output_type": "stream",
     "text": [
      "completed iteration 100; size is 0.91213074266\n",
      "completed iteration 200; size is 2.25359462398\n",
      "completed iteration 300; size is 2.72640956924\n",
      "completed iteration 400; size is 2.89542108686\n",
      "completed iteration 500; size is 2.95704588116\n",
      "completed iteration 600; size is 2.96587095433\n",
      "completed iteration 700; size is 2.9206566173\n",
      "completed iteration 800; size is 2.88260167508\n",
      "completed iteration 900; size is 2.88355104015\n",
      "completed iteration 1000; size is 2.90314249153\n",
      "[[-0.16801482]\n",
      " [ 0.01444634]\n",
      " [ 0.16148696]\n",
      " [-0.19798351]\n",
      " [-0.09218866]\n",
      " [-0.11857806]] [[-0.03075808 -0.01202935  0.03083393 -0.02926584 -0.0287835  -0.03046037]\n",
      " [-0.03588527 -0.01223754  0.03595837 -0.03499703 -0.03217181 -0.03429977]\n",
      " [-0.03999168 -0.0126424   0.04003012 -0.03976528 -0.0351457  -0.03803164]\n",
      " [-0.04661982 -0.01379221  0.04633247 -0.04672384 -0.03945441 -0.04297683]\n",
      " [-0.06046945 -0.01669435  0.05989728 -0.06249332 -0.04949728 -0.05445041]\n",
      " [-0.14109291 -0.03280477  0.13865865 -0.15224303 -0.10694114 -0.12031512]\n",
      " [-0.19375268 -0.02701327  0.18873613 -0.21642326 -0.13436438 -0.15577369]\n",
      " [ 0.01187138  0.00721655 -0.01110316  0.01594125  0.00475151  0.00661974]\n",
      " [-0.02698434 -0.01225563  0.02713574 -0.02482392 -0.02619425 -0.02743661]]\n"
     ]
    },
    {
     "data": {
      "image/png": "[encoded data removed]",
      "text/plain": [
       "<matplotlib.figure.Figure at 0x218cf3c8>"
      ]
     },
     "metadata": {},
     "output_type": "display_data"
    },
    {
     "data": {
      "image/png": "[encoded data removed]",
      "text/plain": [
       "<matplotlib.figure.Figure at 0x1bb89240>"
      ]
     },
     "metadata": {},
     "output_type": "display_data"
    },
    {
     "data": {
      "image/png": "[encoded data removed]",
      "text/plain": [
       "<matplotlib.figure.Figure at 0x205c1ba8>"
      ]
     },
     "metadata": {},
     "output_type": "display_data"
    }
   ],
   "source": [
    "Q = QLNetwork(predictor = lambda x: clf.predict_proba(np.divide(x-meanX, varX)),\n",
    "              trainset = trainarr, num_classes=info.numClasses, reward=[1,-1,-0.05], gamma=0.999)\n",
    "Q.train(progress_interval=100, maxruns=1000, \n",
    "        annealEpsilon = lambda run: 1.0/(1+sqrt(run)), \n",
    "        annealAlpha = lambda run: 1.0/(info.numClasses*(1+run)),\n",
    "       super_verbose = False,\n",
    "       lmbda = 0.02*info.numClasses)\n",
    "plt.figure(0)\n",
    "plt.plot(Q.tracker[-100:])\n",
    "plt.figure(1)\n",
    "plt.plot(Q.errtracker)\n",
    "plt.figure(2)\n",
    "plt.plot(Q.timetracker)\n",
    "print Q.oweights, Q.iweights"
   ]
  },
  {
   "cell_type": "code",
   "execution_count": 87,
   "metadata": {
    "collapsed": false
   },
   "outputs": [
    {
     "name": "stdout",
     "output_type": "stream",
     "text": [
      "(0.9833333333333333, 10.125, 9, 11)\n"
     ]
    }
   ],
   "source": [
    "print Q.test(testarr, maxiter=20)"
   ]
  }
 ],
 "metadata": {
  "kernelspec": {
   "display_name": "Python 2",
   "language": "python",
   "name": "python2"
  },
  "language_info": {
   "codemirror_mode": {
    "name": "ipython",
    "version": 2
   },
   "file_extension": ".py",
   "mimetype": "text/x-python",
   "name": "python",
   "nbconvert_exporter": "python",
   "pygments_lexer": "ipython2",
   "version": "2.7.6"
  }
 },
 "nbformat": 4,
 "nbformat_minor": 0
}
